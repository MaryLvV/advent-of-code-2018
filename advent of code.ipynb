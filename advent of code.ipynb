{
 "cells": [
  {
   "cell_type": "code",
   "execution_count": 15,
   "metadata": {
    "collapsed": true
   },
   "outputs": [],
   "source": [
    "import pandas as pd\n",
    "import operator\n",
    "from collections import Counter\n",
    "import re\n",
    "\n",
    "ops = { \"+\": operator.add, \"-\": operator.sub }"
   ]
  },
  {
   "cell_type": "markdown",
   "metadata": {},
   "source": [
    "#### Day 1"
   ]
  },
  {
   "cell_type": "code",
   "execution_count": 2,
   "metadata": {
    "collapsed": true
   },
   "outputs": [],
   "source": [
    "with open('input-day1.txt', 'r') as f:\n",
    "    day1 = f.read().strip().split('\\n')"
   ]
  },
  {
   "cell_type": "code",
   "execution_count": 3,
   "metadata": {
    "collapsed": true
   },
   "outputs": [],
   "source": [
    "def get_frequency(input_list):\n",
    "    start = 0\n",
    "    for entry in input_list:\n",
    "        sign = entry[0]\n",
    "        number = int(entry[1:])\n",
    "        start = ops[sign](start, number)\n",
    "    return start    "
   ]
  },
  {
   "cell_type": "code",
   "execution_count": 4,
   "metadata": {},
   "outputs": [
    {
     "data": {
      "text/plain": [
       "454"
      ]
     },
     "execution_count": 4,
     "metadata": {},
     "output_type": "execute_result"
    }
   ],
   "source": [
    "get_frequency(day1)"
   ]
  },
  {
   "cell_type": "code",
   "execution_count": 5,
   "metadata": {
    "collapsed": true
   },
   "outputs": [],
   "source": [
    "def get_dupe_freq(input_list):\n",
    "    start = 0\n",
    "    freq_list =[0]\n",
    "    while True:\n",
    "        for entry in input_list:\n",
    "            sign = entry[0]\n",
    "            number = int(entry[1:])\n",
    "            start = ops[sign](start, number)\n",
    "            #print(start)\n",
    "            if start in freq_list:\n",
    "                return start\n",
    "            freq_list.append(start)  "
   ]
  },
  {
   "cell_type": "code",
   "execution_count": 6,
   "metadata": {},
   "outputs": [
    {
     "data": {
      "text/plain": [
       "566"
      ]
     },
     "execution_count": 6,
     "metadata": {},
     "output_type": "execute_result"
    }
   ],
   "source": [
    "get_dupe_freq(day1)"
   ]
  },
  {
   "cell_type": "markdown",
   "metadata": {},
   "source": [
    "#### Day 2"
   ]
  },
  {
   "cell_type": "code",
   "execution_count": 7,
   "metadata": {
    "collapsed": true
   },
   "outputs": [],
   "source": [
    "with open('input-day2.txt', 'r') as f:\n",
    "    day2 = f.read().strip().split('\\n')"
   ]
  },
  {
   "cell_type": "code",
   "execution_count": 10,
   "metadata": {},
   "outputs": [
    {
     "data": {
      "text/plain": [
       "5704"
      ]
     },
     "execution_count": 10,
     "metadata": {},
     "output_type": "execute_result"
    }
   ],
   "source": [
    "letter_counts = {2:0, 3:0}\n",
    "def get_checksum(input_list):\n",
    "    for item in input_list:\n",
    "        counts = Counter(item)\n",
    "        for val in set(counts.values()):\n",
    "            if val == 2:\n",
    "                letter_counts[2] += 1                \n",
    "            if val == 3:\n",
    "                letter_counts[3] += 1\n",
    "    return letter_counts[2] * letter_counts[3]   \n",
    "\n",
    "get_checksum(day2)"
   ]
  },
  {
   "cell_type": "code",
   "execution_count": 11,
   "metadata": {
    "collapsed": true
   },
   "outputs": [],
   "source": [
    "def get_offbyone(input_list):\n",
    "    target_ids = []\n",
    "    input_list_sorted = sorted(input_list)\n",
    "    i = 0\n",
    "    j = 1\n",
    "    while j < len(input_list_sorted):\n",
    "        counter = 0\n",
    "        first = input_list_sorted[i]\n",
    "        second = input_list_sorted[j]\n",
    "        for k in range(0, len(first)):\n",
    "            if first[k] != second[k]:\n",
    "                counter += 1\n",
    "        if counter == 1:\n",
    "            target_ids.append(first)\n",
    "            target_ids.append(second)\n",
    "        i += 1\n",
    "        j += 1\n",
    "    return target_ids    "
   ]
  },
  {
   "cell_type": "code",
   "execution_count": 12,
   "metadata": {},
   "outputs": [
    {
     "data": {
      "text/plain": [
       "['umdryabviapkozistwcnihjqxd', 'umdryabviapkozistwcnihjqxg']"
      ]
     },
     "execution_count": 12,
     "metadata": {},
     "output_type": "execute_result"
    }
   ],
   "source": [
    "get_offbyone(day2)"
   ]
  },
  {
   "cell_type": "code",
   "execution_count": 13,
   "metadata": {
    "collapsed": true
   },
   "outputs": [],
   "source": [
    "def get_common(target_ids):\n",
    "    letters = ''\n",
    "    first = target_ids[0]\n",
    "    second = target_ids[1]\n",
    "    for k in range(0, len(first)):\n",
    "            if first[k] == second[k]:\n",
    "                letters += first[k]\n",
    "    return letters            "
   ]
  },
  {
   "cell_type": "code",
   "execution_count": 14,
   "metadata": {},
   "outputs": [
    {
     "data": {
      "text/plain": [
       "'umdryabviapkozistwcnihjqx'"
      ]
     },
     "execution_count": 14,
     "metadata": {},
     "output_type": "execute_result"
    }
   ],
   "source": [
    "get_common(get_offbyone(day2))"
   ]
  },
  {
   "cell_type": "markdown",
   "metadata": {},
   "source": [
    "#### Day 3"
   ]
  },
  {
   "cell_type": "code",
   "execution_count": 16,
   "metadata": {},
   "outputs": [
    {
     "data": {
      "text/plain": [
       "['#1 @ 509,796: 18x15', '#2 @ 724,606: 23x15']"
      ]
     },
     "execution_count": 16,
     "metadata": {},
     "output_type": "execute_result"
    }
   ],
   "source": [
    "with open('input-day3.txt', 'r') as f:\n",
    "    day3 = f.read().strip().splitlines()\n",
    "day3[0:2]"
   ]
  },
  {
   "cell_type": "code",
   "execution_count": 17,
   "metadata": {
    "collapsed": true
   },
   "outputs": [],
   "source": [
    "claims_dict = {}"
   ]
  },
  {
   "cell_type": "code",
   "execution_count": 18,
   "metadata": {
    "collapsed": true
   },
   "outputs": [],
   "source": [
    "for claim in day3:\n",
    "    claim_pattern = re.search(r\"#(\\d+) @ (\\d+),(\\d+): (\\d+)x(\\d+)\", claim)\n",
    "    claims_dict[int(claim_pattern.group(1))] = [\n",
    "        int(claim_pattern.group(2)),\n",
    "        int(claim_pattern.group(4)) + int(claim_pattern.group(2)),\n",
    "        int(claim_pattern.group(3)),\n",
    "        int(claim_pattern.group(5)) + int(claim_pattern.group(3))]"
   ]
  },
  {
   "cell_type": "code",
   "execution_count": 21,
   "metadata": {},
   "outputs": [
    {
     "name": "stdout",
     "output_type": "stream",
     "text": [
      "297544068\n"
     ]
    }
   ],
   "source": [
    "# coordinates of intersection\n",
    "total_overlap = 0\n",
    "for i in range(1, len(claims_dict) - 1):\n",
    "    rect_one = claims_dict[i]\n",
    "    for j in range(i + 1, len(claims_dict)):\n",
    "        rect_two = claims_dict[j]\n",
    "        left = max(rect_one[0], rect_two[0])\n",
    "        right = min(rect_one[1], rect_two[1])\n",
    "        top = max(rect_one[2], rect_two[2])\n",
    "        bottom = min(rect_one[3], rect_two[3])\n",
    "        intersection_area = (right-left) * (bottom - top)\n",
    "        rect_one_area = (rect_one[1] - rect_one[0]) * (rect_one[3] - rect_one[2])\n",
    "        rect_two_area = (rect_two[1] - rect_two[0]) * (rect_two[3] - rect_two[2])\n",
    "        overlap = rect_one_area + rect_two_area - intersection_area\n",
    "        if overlap > 0:\n",
    "            total_overlap += overlap\n",
    "print(total_overlap)"
   ]
  },
  {
   "cell_type": "code",
   "execution_count": 19,
   "metadata": {},
   "outputs": [
    {
     "name": "stdout",
     "output_type": "stream",
     "text": [
      "[509, 527, 796, 811]\n",
      "[724, 747, 606, 621]\n"
     ]
    }
   ],
   "source": [
    "print(claims_dict[1])\n",
    "print(claims_dict[2])"
   ]
  },
  {
   "cell_type": "code",
   "execution_count": null,
   "metadata": {
    "collapsed": true
   },
   "outputs": [],
   "source": []
  }
 ],
 "metadata": {
  "kernelspec": {
   "display_name": "Python 3",
   "language": "python",
   "name": "python3"
  },
  "language_info": {
   "codemirror_mode": {
    "name": "ipython",
    "version": 3
   },
   "file_extension": ".py",
   "mimetype": "text/x-python",
   "name": "python",
   "nbconvert_exporter": "python",
   "pygments_lexer": "ipython3",
   "version": "3.6.3"
  }
 },
 "nbformat": 4,
 "nbformat_minor": 2
}
